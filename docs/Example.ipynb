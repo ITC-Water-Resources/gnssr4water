{
 "cells": [
  {
   "cell_type": "markdown",
   "id": "c2218375",
   "metadata": {},
   "source": [
    "# Guideline on choosing receiver location spot \n",
    "___"
   ]
  },
  {
   "cell_type": "markdown",
   "id": "2314b5ef",
   "metadata": {},
   "source": [
    "This notebook aims to provide you differents data for a location of the receiver, and show you the best height for placing it to perform GNSS reflectometry over a river or lac. Just enter your data and launch the notebook. You can then see the result. \n",
    "\n",
    "_For more information, documentation, example, see:_ https://github.com/lroineau/gnssr4river"
   ]
  },
  {
   "cell_type": "markdown",
   "id": "42d9ad18",
   "metadata": {},
   "source": [
    "## User data\n",
    "___\n",
    "Replace the data bellow by yours, following the example."
   ]
  },
  {
   "cell_type": "code",
   "execution_count": 1,
   "id": "d4e08748",
   "metadata": {},
   "outputs": [
    {
     "ename": "SyntaxError",
     "evalue": "invalid syntax (1726817643.py, line 3)",
     "output_type": "error",
     "traceback": [
      "\u001b[1;36m  Input \u001b[1;32mIn [1]\u001b[1;36m\u001b[0m\n\u001b[1;33m    lon=\u001b[0m\n\u001b[1;37m        ^\u001b[0m\n\u001b[1;31mSyntaxError\u001b[0m\u001b[1;31m:\u001b[0m invalid syntax\n"
     ]
    }
   ],
   "source": [
    "### Receiver coordinates ###\n",
    "# Enter bellow the coordinates of your receiver (WGS84, ie as given by Google Maps)\n",
    "lon=\n",
    "lat=\n",
    "\n",
    "### Waterbody geometry ###\n",
    "# If you have a .shp or a .gpck of your waterbody, enter the path bellow\n",
    "wb_path = "
   ]
  },
  {
   "cell_type": "markdown",
   "id": "ab7f8eb6",
   "metadata": {},
   "source": [
    "## Code\n",
    "___\n",
    "### Import "
   ]
  },
  {
   "cell_type": "code",
   "execution_count": 2,
   "id": "86079e07",
   "metadata": {
    "scrolled": true
   },
   "outputs": [
    {
     "name": "stderr",
     "output_type": "stream",
     "text": [
      "WARNING: There was an error checking the latest version of pip.\n"
     ]
    },
    {
     "name": "stdout",
     "output_type": "stream",
     "text": [
      "Requirement already satisfied: unlzw3 in c:\\users\\souna\\anaconda3\\lib\\site-packages (0.2.1)\n"
     ]
    }
   ],
   "source": [
    "#install on the libraries that are not installed by default\n",
    "!pip install unlzw3\n",
    "#general purpose libraires\n",
    "import math\n",
    "import numpy as np\n",
    "#visualization libraries\n",
    "%matplotlib inline\n",
    "import matplotlib.pyplot as plt"
   ]
  },
  {
   "cell_type": "markdown",
   "id": "b951f51c",
   "metadata": {},
   "source": [
    "### Reflection Points"
   ]
  },
  {
   "cell_type": "code",
   "execution_count": null,
   "id": "7c4d0e19",
   "metadata": {},
   "outputs": [],
   "source": []
  },
  {
   "cell_type": "markdown",
   "id": "fe432389",
   "metadata": {},
   "source": [
    "### Visualization of the spot"
   ]
  },
  {
   "cell_type": "code",
   "execution_count": null,
   "id": "92fa744d",
   "metadata": {},
   "outputs": [],
   "source": []
  },
  {
   "cell_type": "markdown",
   "id": "f01df08f",
   "metadata": {},
   "source": [
    "### Height of the antenna"
   ]
  },
  {
   "cell_type": "code",
   "execution_count": null,
   "id": "8076656e",
   "metadata": {},
   "outputs": [],
   "source": []
  },
  {
   "cell_type": "markdown",
   "id": "ec52bba8",
   "metadata": {},
   "source": [
    "Author: Lubin Roineau (ENSG-Geomatic)"
   ]
  }
 ],
 "metadata": {
  "kernelspec": {
   "display_name": "Python 3 (ipykernel)",
   "language": "python",
   "name": "python3"
  },
  "language_info": {
   "codemirror_mode": {
    "name": "ipython",
    "version": 3
   },
   "file_extension": ".py",
   "mimetype": "text/x-python",
   "name": "python",
   "nbconvert_exporter": "python",
   "pygments_lexer": "ipython3",
   "version": "3.9.12"
  }
 },
 "nbformat": 4,
 "nbformat_minor": 5
}
